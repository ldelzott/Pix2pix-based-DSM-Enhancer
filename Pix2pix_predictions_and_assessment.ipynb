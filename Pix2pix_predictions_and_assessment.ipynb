{
 "cells": [
  {
   "cell_type": "code",
   "execution_count": 1,
   "id": "15580c02-8780-40df-8989-6739310a1a18",
   "metadata": {},
   "outputs": [],
   "source": [
    "from utils import post_request_image, get_request_image\n",
    "import os"
   ]
  },
  {
   "cell_type": "code",
   "execution_count": 2,
   "id": "edeec23f-8445-4cac-af49-a842e8546241",
   "metadata": {},
   "outputs": [],
   "source": [
    "url_PIX = 'http://172.17.0.2:6000/'\n",
    "url_ESFPNet = 'http://172.17.0.3:5000/'"
   ]
  },
  {
   "cell_type": "code",
   "execution_count": 3,
   "id": "289e767d",
   "metadata": {},
   "outputs": [],
   "source": [
    "def process_image_file(filename, output_folder, url):\n",
    "    # Read the input image file\n",
    "    with open(filename, 'rb') as f:\n",
    "        img = f.read()\n",
    "    \n",
    "    post_request_image(url, img)\n",
    "    processed_image = get_request_image(url)\n",
    "    \n",
    "    if not os.path.exists(output_folder):\n",
    "        os.makedirs(output_folder)\n",
    "    \n",
    "    output_filename = os.path.join(output_folder, os.path.basename(filename))\n",
    "    with open(output_filename, 'wb') as f:\n",
    "        f.write(processed_image)"
   ]
  },
  {
   "cell_type": "code",
   "execution_count": 5,
   "id": "c2231736",
   "metadata": {},
   "outputs": [],
   "source": [
    "\n",
    "input_folder = \"pix2pix_inputs\"\n",
    "output_folder = \"pix2pix_outputs\"\n",
    "\n",
    "input_files = [os.path.join(input_folder, f) for f in os.listdir(input_folder) if os.path.isfile(os.path.join(input_folder, f))]\n",
    "\n",
    "for input_filename in input_files:\n",
    "    process_image_file(input_filename, output_folder, url_PIX)\n",
    "\n",
    "\n",
    "input_folder = \"esfp_inputs\"\n",
    "output_folder = \"esfp_outputs\"\n",
    "\n",
    "input_files = [os.path.join(input_folder, f) for f in os.listdir(input_folder) if os.path.isfile(os.path.join(input_folder, f))]\n",
    "\n",
    "for input_filename in input_files:\n",
    "    process_image_file(input_filename, output_folder, url_ESFPNet)"
   ]
  },
  {
   "cell_type": "code",
   "execution_count": null,
   "id": "1e75313d-7ab0-433a-a364-fe0a26ece40a",
   "metadata": {},
   "outputs": [],
   "source": []
  },
  {
   "cell_type": "code",
   "execution_count": null,
   "id": "53c7f93a",
   "metadata": {},
   "outputs": [],
   "source": []
  }
 ],
 "metadata": {
  "kernelspec": {
   "display_name": "Python 3 (ipykernel)",
   "language": "python",
   "name": "python3"
  },
  "language_info": {
   "codemirror_mode": {
    "name": "ipython",
    "version": 3
   },
   "file_extension": ".py",
   "mimetype": "text/x-python",
   "name": "python",
   "nbconvert_exporter": "python",
   "pygments_lexer": "ipython3",
   "version": "3.10.9"
  }
 },
 "nbformat": 4,
 "nbformat_minor": 5
}
