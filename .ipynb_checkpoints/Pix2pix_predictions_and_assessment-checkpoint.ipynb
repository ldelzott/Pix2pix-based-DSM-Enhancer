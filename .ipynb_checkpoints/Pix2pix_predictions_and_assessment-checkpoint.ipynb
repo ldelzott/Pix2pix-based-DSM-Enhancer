{
 "cells": [
  {
   "cell_type": "markdown",
   "id": "9fca7cf5",
   "metadata": {},
   "source": [
    "# CGAN-based DSM enhancer "
   ]
  },
  {
   "cell_type": "code",
   "execution_count": 1,
   "id": "15580c02-8780-40df-8989-6739310a1a18",
   "metadata": {},
   "outputs": [],
   "source": [
    "from utils import post_request_image, get_request_image\n",
    "import os"
   ]
  },
  {
   "cell_type": "code",
   "execution_count": 7,
   "id": "edeec23f-8445-4cac-af49-a842e8546241",
   "metadata": {},
   "outputs": [],
   "source": [
    "url_PIX = 'http://172.17.0.2:6000/'\n",
    "url_ESFPNet = 'http://172.17.0.3:5000/'"
   ]
  },
  {
   "cell_type": "code",
   "execution_count": 8,
   "id": "289e767d",
   "metadata": {},
   "outputs": [],
   "source": [
    "def process_image_file(filename, output_folder, url):\n",
    "    # Read the input image file\n",
    "    with open(filename, 'rb') as f:\n",
    "        img = f.read()\n",
    "    \n",
    "    post_request_image(url, img)\n",
    "    processed_image = get_request_image(url)\n",
    "    \n",
    "    if not os.path.exists(output_folder):\n",
    "        os.makedirs(output_folder)\n",
    "    \n",
    "    output_filename = os.path.join(output_folder, os.path.basename(filename))\n",
    "    with open(output_filename, 'wb') as f:\n",
    "        f.write(processed_image)"
   ]
  },
  {
   "cell_type": "markdown",
   "id": "27cd4998",
   "metadata": {},
   "source": [
    "# Enhancing with Pix2pix\n",
    "### Running Pix2pix"
   ]
  },
  {
   "cell_type": "markdown",
   "id": "afbb5776",
   "metadata": {},
   "source": [
    "The input images are 256x512 pixels .tif images composed of two tiles. The left tile is a photogrammetry-based DSM image and the second tile is an NDVI version of the scene depicted in the first tile. Those inputs should be placed in the folder \"pix2pix_inputs\".\n",
    "\n",
    "Running the script docker_pix2pix/script.sh is required before any prediction. \n",
    "\n",
    "The enhanced tiles are stored in the folder \"pix2pix_outputs\". Those tiles can be directly assembled into a large raster file."
   ]
  },
  {
   "cell_type": "code",
   "execution_count": 9,
   "id": "c2231736",
   "metadata": {},
   "outputs": [],
   "source": [
    "input_folder = \"pix2pix_inputs\"\n",
    "output_folder = \"pix2pix_outputs\"\n",
    "\n",
    "input_files = [os.path.join(input_folder, f) for f in os.listdir(input_folder) if os.path.isfile(os.path.join(input_folder, f))]\n",
    "\n",
    "for input_filename in input_files:\n",
    "    process_image_file(input_filename, output_folder, url_PIX)"
   ]
  },
  {
   "cell_type": "markdown",
   "id": "664eab22",
   "metadata": {},
   "source": [
    "# Assessment\n",
    "### Creating the image segmentation data for assessment\n",
    "\n",
    "A segmentation method (ESFPNet) can be used to assess the results proposed by Pix2pix. \n",
    "Running the script docker_ESFPNet/script.sh is required to launch the docker container related to ESFPNet.\n",
    "The segmentation results are stored in the folder \"esfp_outputs\""
   ]
  },
  {
   "cell_type": "code",
   "execution_count": 10,
   "id": "1e75313d-7ab0-433a-a364-fe0a26ece40a",
   "metadata": {},
   "outputs": [],
   "source": [
    "input_folder = \"pix2pix_outputs\"\n",
    "output_folder = \"esfp_outputs\"\n",
    "\n",
    "input_files = [os.path.join(input_folder, f) for f in os.listdir(input_folder) if os.path.isfile(os.path.join(input_folder, f))]\n",
    "\n",
    "for input_filename in input_files:\n",
    "    process_image_file(input_filename, output_folder, url_ESFPNet)"
   ]
  },
  {
   "cell_type": "markdown",
   "id": "676ed0a2",
   "metadata": {},
   "source": [
    "### Metrics\n",
    "\n",
    "The assessment is done by comparing the ESFPNet output's given for the outputs provided by Pix2pix: a good segmentation of the buildings on a given tile indicates that Pix2pix was able to create an output close to the ideal dataset used to trained ESFPNet.\n",
    "\n",
    "The metrics proposed to assess the output quality of Pix2pix are computed over all the outputs (of the segmentation) stored in the folder \"esfp_outputs\". For each output tile, a reference tile containing a mask of the building footprint is required to compute the metrics.   "
   ]
  },
  {
   "cell_type": "code",
   "execution_count": 67,
   "id": "386657c8",
   "metadata": {},
   "outputs": [],
   "source": [
    "import os\n",
    "import cv2\n",
    "import numpy as np\n",
    "from sklearn.metrics import mean_absolute_error\n",
    "from sklearn.metrics import f1_score\n",
    "import matplotlib.pyplot as plt\n",
    "\n",
    "ref_dir = \"building_footprints/\"\n",
    "test_dir = \"esfp_outputs/\""
   ]
  },
  {
   "cell_type": "markdown",
   "id": "a222a89d",
   "metadata": {},
   "source": [
    "#### Mean Absolute Error (MAE), DICE and Intersection-Over-Union (IoU)"
   ]
  },
  {
   "cell_type": "markdown",
   "id": "bfd2383e",
   "metadata": {},
   "source": [
    "Computing the metrics using conventional libraries. The scores are given as a mean over the whole input dataset. "
   ]
  },
  {
   "cell_type": "code",
   "execution_count": 68,
   "id": "f2701b73",
   "metadata": {},
   "outputs": [
    {
     "name": "stdout",
     "output_type": "stream",
     "text": [
      "Mean MAE score: 0.06378643\n",
      "Mean Dice score: 0.8928028439511547\n",
      "Mean IoU score: 0.8083074363978712\n"
     ]
    }
   ],
   "source": [
    "# This code was partially proposed by AI tools. \n",
    "\n",
    "mae_scores = []\n",
    "dice_scores = []\n",
    "iou_scores = []\n",
    "\n",
    "threshold = 128\n",
    "\n",
    "for filename in os.listdir(ref_dir):\n",
    "    \n",
    "    ref_mask = cv2.imread(os.path.join(ref_dir, filename), cv2.IMREAD_GRAYSCALE).astype(np.float32)/255.0\n",
    "    test_mask = cv2.imread(os.path.join(test_dir, filename), cv2.IMREAD_GRAYSCALE).astype(np.float32)/255.0\n",
    "\n",
    "    mae_score = mean_absolute_error(ref_mask, test_mask)\n",
    "    dice_score = f1_score(ref_mask.flatten(), test_mask.flatten())\n",
    "    \n",
    "    _, ref_mask_binary = cv2.threshold(ref_mask*255, threshold, 255, cv2.THRESH_BINARY)\n",
    "    _, test_mask_binary = cv2.threshold(test_mask*255, threshold, 255, cv2.THRESH_BINARY)\n",
    "    intersection = np.logical_and(ref_mask_binary, test_mask_binary)\n",
    "    union = np.logical_or(ref_mask_binary, test_mask_binary)\n",
    "    iou_score = np.sum(intersection) / np.sum(union)\n",
    "    \n",
    "    iou_scores.append(iou_score)\n",
    "    dice_scores.append(dice_score)\n",
    "    mae_scores.append(mae_score)\n",
    "\n",
    "mean_iou = np.mean(iou_scores)\n",
    "mean_dice_score = np.mean(dice_scores)\n",
    "mean_mae = np.mean(mae_scores)\n",
    "\n",
    "print(\"Mean MAE score:\", mean_mae)\n",
    "print(\"Mean Dice score:\", mean_dice_score)\n",
    "print(\"Mean IoU score:\", mean_iou)"
   ]
  },
  {
   "cell_type": "markdown",
   "id": "7d230f23",
   "metadata": {},
   "source": [
    "#### Mean Absolute Error (MAE), DICE, Intersection-Over-Union (IoU), E-measure, and S-measure"
   ]
  },
  {
   "cell_type": "markdown",
   "id": "8c3f01a3",
   "metadata": {},
   "source": [
    "Computing the metrics using the pysodmetrics project. The scores are given as a mean over the whole input dataset. "
   ]
  },
  {
   "cell_type": "code",
   "execution_count": 66,
   "id": "b951200c",
   "metadata": {},
   "outputs": [
    {
     "name": "stdout",
     "output_type": "stream",
     "text": [
      "SOD IoU: 0.8064560745455691\n",
      "SOD F1: 0.8966639763555604\n",
      "SOD S-measure 0.8538706970524808\n",
      "SOD E-measure 0.9320463948470102\n",
      "SOD MAE 0.06378643329326923\n"
     ]
    }
   ],
   "source": [
    "#!pip install pysodmetrics\n",
    "# Adapted from https://github.com/lartpang/PySODMetrics/blob/main/examples/test_metrics.py\n",
    "\n",
    "import py_sod_metrics\n",
    "\n",
    "sample_gray = dict(with_adaptive=True, with_dynamic=True)\n",
    "FMv2 = py_sod_metrics.FmeasureV2(\n",
    "    metric_handlers={\n",
    "        # 灰度数据指标\n",
    "        \"f1\": py_sod_metrics.FmeasureHandler(**sample_gray, beta=0.1),\n",
    "        \"iou\": py_sod_metrics.IOUHandler(**sample_gray),\n",
    "        \"dice\": py_sod_metrics.DICEHandler(**sample_gray),\n",
    "    }\n",
    ")\n",
    "\n",
    "SM = py_sod_metrics.Smeasure()\n",
    "EM = py_sod_metrics.Emeasure()\n",
    "MAE = py_sod_metrics.MAE()\n",
    "\n",
    "mask_root = ref_dir\n",
    "pred_root = test_dir\n",
    "mask_name_list = sorted(os.listdir(mask_root))\n",
    "\n",
    "for i, mask_name in enumerate(mask_name_list):\n",
    "    mask_path = os.path.join(mask_root, mask_name)\n",
    "    pred_path = os.path.join(pred_root, mask_name)\n",
    "    mask = cv2.imread(mask_path, cv2.IMREAD_GRAYSCALE)\n",
    "    pred = cv2.imread(pred_path, cv2.IMREAD_GRAYSCALE)\n",
    "    SM.step(pred=pred, gt=mask)\n",
    "    EM.step(pred=pred, gt=mask)\n",
    "    MAE.step(pred=pred, gt=mask)\n",
    "    FMv2.step(pred=pred, gt=mask)\n",
    "\n",
    "sm = SM.get_results()[\"sm\"]\n",
    "em = EM.get_results()[\"em\"]\n",
    "mae = MAE.get_results()[\"mae\"]\n",
    "fmv2 = FMv2.get_results()\n",
    "\n",
    "print(f'SOD IoU: {fmv2[\"iou\"][\"dynamic\"].mean()}')\n",
    "print(f'SOD F1: {fmv2[\"f1\"][\"dynamic\"].mean()}')\n",
    "print(f'SOD S-measure {sm}')\n",
    "print(f'SOD E-measure {em[\"curve\"].mean()}')\n",
    "print(f'SOD MAE {mae}')\n"
   ]
  }
 ],
 "metadata": {
  "kernelspec": {
   "display_name": "Python 3 (ipykernel)",
   "language": "python",
   "name": "python3"
  },
  "language_info": {
   "codemirror_mode": {
    "name": "ipython",
    "version": 3
   },
   "file_extension": ".py",
   "mimetype": "text/x-python",
   "name": "python",
   "nbconvert_exporter": "python",
   "pygments_lexer": "ipython3",
   "version": "3.10.9"
  }
 },
 "nbformat": 4,
 "nbformat_minor": 5
}
